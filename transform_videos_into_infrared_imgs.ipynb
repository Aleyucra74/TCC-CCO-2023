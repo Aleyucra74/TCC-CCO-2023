{
  "cells": [
    {
      "cell_type": "code",
      "execution_count": null,
      "metadata": {
        "id": "AixXAWGkMQz7"
      },
      "outputs": [],
      "source": [
        "#!apt-get remove python3-opencv\n",
        "#!apt-get install python3-opencv\n",
        "#!pip uninstall opencv_python -y\n",
        "#!pip install -U opencv_python --user\n",
        "#!rm -rf test/"
      ]
    },
    {
      "cell_type": "code",
      "execution_count": null,
      "metadata": {
        "colab": {
          "base_uri": "https://localhost:8080/"
        },
        "id": "OHUnVjyyG38G",
        "outputId": "0d2fe6fe-d711-43ff-b5a8-92035c06fab1"
      },
      "outputs": [
        {
          "name": "stdout",
          "output_type": "stream",
          "text": [
            "Looking in indexes: https://pypi.org/simple, https://us-python.pkg.dev/colab-wheels/public/simple/\n",
            "Collecting boto3\n",
            "  Downloading boto3-1.26.101-py3-none-any.whl (135 kB)\n",
            "\u001b[2K     \u001b[90m━━━━━━━━━━━━━━━━━━━━━━━━━━━━━━━━━━━━━━━\u001b[0m \u001b[32m135.5/135.5 KB\u001b[0m \u001b[31m4.0 MB/s\u001b[0m eta \u001b[36m0:00:00\u001b[0m\n",
            "\u001b[?25hCollecting s3transfer<0.7.0,>=0.6.0\n",
            "  Downloading s3transfer-0.6.0-py3-none-any.whl (79 kB)\n",
            "\u001b[2K     \u001b[90m━━━━━━━━━━━━━━━━━━━━━━━━━━━━━━━━━━━━━━━━\u001b[0m \u001b[32m79.6/79.6 KB\u001b[0m \u001b[31m7.4 MB/s\u001b[0m eta \u001b[36m0:00:00\u001b[0m\n",
            "\u001b[?25hCollecting botocore<1.30.0,>=1.29.101\n",
            "  Downloading botocore-1.29.101-py3-none-any.whl (10.6 MB)\n",
            "\u001b[2K     \u001b[90m━━━━━━━━━━━━━━━━━━━━━━━━━━━━━━━━━━━━━━━━\u001b[0m \u001b[32m10.6/10.6 MB\u001b[0m \u001b[31m52.0 MB/s\u001b[0m eta \u001b[36m0:00:00\u001b[0m\n",
            "\u001b[?25hCollecting jmespath<2.0.0,>=0.7.1\n",
            "  Downloading jmespath-1.0.1-py3-none-any.whl (20 kB)\n",
            "Requirement already satisfied: urllib3<1.27,>=1.25.4 in /usr/local/lib/python3.9/dist-packages (from botocore<1.30.0,>=1.29.101->boto3) (1.26.15)\n",
            "Requirement already satisfied: python-dateutil<3.0.0,>=2.1 in /usr/local/lib/python3.9/dist-packages (from botocore<1.30.0,>=1.29.101->boto3) (2.8.2)\n",
            "Requirement already satisfied: six>=1.5 in /usr/local/lib/python3.9/dist-packages (from python-dateutil<3.0.0,>=2.1->botocore<1.30.0,>=1.29.101->boto3) (1.16.0)\n",
            "Installing collected packages: jmespath, botocore, s3transfer, boto3\n",
            "Successfully installed boto3-1.26.101 botocore-1.29.101 jmespath-1.0.1 s3transfer-0.6.0\n"
          ]
        }
      ],
      "source": [
        "!pip install boto3"
      ]
    },
    {
      "cell_type": "code",
      "execution_count": null,
      "metadata": {
        "id": "N7bWiOKv3IL4"
      },
      "outputs": [],
      "source": [
        "import os\n",
        "import cv2\n",
        "import boto3\n",
        "import numpy as np\n",
        "from google.colab.patches import cv2_imshow\n",
        "from IPython.display import clear_output "
      ]
    },
    {
      "cell_type": "code",
      "execution_count": null,
      "metadata": {
        "id": "8TJjkodzIg1T"
      },
      "outputs": [],
      "source": [
        "#boto client\n",
        "aws_access_key_id = 'SECRET_KEY'\n",
        "aws_secret_access_key = 'SECRET_ACCESS_KEY'\n",
        "aws_session_token= 'SECRET_TOKEN'\n",
        "bucket_name = 's3-data-raw-tcc'\n",
        "\n",
        "s3 = boto3.client('s3', region_name=\"us-east-1\", aws_access_key_id=aws_access_key_id, aws_secret_access_key=aws_secret_access_key, aws_session_token=aws_session_token)"
      ]
    },
    {
      "cell_type": "code",
      "execution_count": null,
      "metadata": {
        "id": "_rfgeKaycR8W"
      },
      "outputs": [],
      "source": [
        "# Create a reusable Paginator\n",
        "paginator = s3.get_paginator('list_objects')\n",
        "\n",
        "# Create a PageIterator from the Paginator\n",
        "page_iterator = paginator.paginate(Bucket=bucket_name)"
      ]
    },
    {
      "cell_type": "code",
      "execution_count": null,
      "metadata": {
        "colab": {
          "base_uri": "https://localhost:8080/"
        },
        "id": "d5fNNhErJ48g",
        "outputId": "515e82c6-4db1-4c36-8244-c576cb8890e4"
      },
      "outputs": [],
      "source": [
        "for page in page_iterator:\n",
        "  for obj in page['Contents']:\n",
        "    key = obj['Key']\n",
        "    path, filename = os.path.split(key)\n",
        "    if key[-4:] == '.mp4':\n",
        "      if not os.path.exists(path):\n",
        "        os.makedirs(path)\n",
        "      print(\"Downloading...: \"+key)\n",
        "      s3.download_file(bucket_name, key, key)"
      ]
    },
    {
      "cell_type": "code",
      "execution_count": null,
      "metadata": {
        "colab": {
          "base_uri": "https://localhost:8080/"
        },
        "id": "nnC6UWFDwTDu",
        "outputId": "ffaa17ce-e8c8-4c83-ff9a-60e34b50241e"
      },
      "outputs": [
        {
          "name": "stdout",
          "output_type": "stream",
          "text": [
            "1.5G\t./s3-data-raw-tcc/Anomaly-Videos-Part-4/Stealing\n",
            "646M\t./s3-data-raw-tcc/Anomaly-Videos-Part-4/Shoplifting\n",
            "612M\t./s3-data-raw-tcc/Anomaly-Videos-Part-4/Vandalism\n",
            "2.7G\t./s3-data-raw-tcc/Anomaly-Videos-Part-4\n",
            "2.1G\t./s3-data-raw-tcc/Anomaly-Videos-Part-3/Robbery\n",
            "663M\t./s3-data-raw-tcc/Anomaly-Videos-Part-3/Shooting\n",
            "2.7G\t./s3-data-raw-tcc/Anomaly-Videos-Part-3\n",
            "1.5G\t./s3-data-raw-tcc/Anomaly-Videos-Part-2/Burglary\n",
            "1.5G\t./s3-data-raw-tcc/Anomaly-Videos-Part-2\n",
            "632M\t./s3-data-raw-tcc/Anomaly-Videos-Part-1/Assault\n",
            "632M\t./s3-data-raw-tcc/Anomaly-Videos-Part-1\n",
            "7.5G\t./s3-data-raw-tcc\n"
          ]
        }
      ],
      "source": [
        "!du -h ./s3-data-raw-tcc"
      ]
    },
    {
      "cell_type": "code",
      "execution_count": null,
      "metadata": {
        "id": "lOFmUnIPYoB1"
      },
      "outputs": [],
      "source": [
        "!find . -size +50M -name \"*.mp4\" -exec rm -i {} \\;"
      ]
    },
    {
      "cell_type": "code",
      "execution_count": null,
      "metadata": {
        "id": "zA7CEpfSMSIj"
      },
      "outputs": [],
      "source": [
        "def make_imgs(path_file, path_absolut):\n",
        "  cap = cv2.VideoCapture(path_file)\n",
        "\n",
        "  fps = cap.get(cv2.CAP_PROP_FPS)\n",
        "\n",
        "  count=0\n",
        "  # running the loop \n",
        "  while (cap.isOpened()): \n",
        "      # extracting the frames \n",
        "      ret, img = cap.read() \n",
        "      if ret == True:\n",
        "          count += 1\n",
        "          # converting to gray-scale \n",
        "          gray8_image = np.zeros((120, 160), dtype=np.uint8)\n",
        "          gray8_image = cv2.normalize(img, gray8_image, 0, 255, cv2.NORM_MINMAX)\n",
        "          gray8_image = np.uint8(gray8_image)\n",
        "\n",
        "          inferno_palette = cv2.applyColorMap(gray8_image, cv2.COLORMAP_INFERNO)\n",
        "          \n",
        "          resized_img = cv2.resize(inferno_palette, (224,224))\n",
        "\n",
        "          if count % int(fps) == 0:\n",
        "              frame_name = os.path.join(path_absolut, filename[:-4]+'_frame{:04d}.jpg'.format(count))\n",
        "              cv2.imwrite(frame_name, resized_img)\n",
        "              print(\"Saving: \"+frame_name)\n",
        "      else:\n",
        "          break\n",
        "\n",
        "  # closing the window\n",
        "  cap.release()\n",
        "  cv2.destroyAllWindows()"
      ]
    },
    {
      "cell_type": "code",
      "execution_count": null,
      "metadata": {
        "colab": {
          "base_uri": "https://localhost:8080/"
        },
        "id": "QRkuRA0Rdmwz",
        "outputId": "6acaae69-989d-4038-a3a9-183fe77f7ae6"
      },
      "outputs": [],
      "source": [
        "# 52'\n",
        "import os\n",
        "import cv2\n",
        "\n",
        "if not os.path.exists('./s3-data-preprocessed-tcc'):\n",
        "    os.makedirs('s3-data-preprocessed-tcc')\n",
        "\n",
        "for page in page_iterator:\n",
        "  for path_name in page['Contents']:\n",
        "    full_path_file = path_name['Key']\n",
        "\n",
        "    path, filename = os.path.split(full_path_file)\n",
        "    path_imgs = path.replace('s3-data-raw-tcc', 's3-data-preprocessed-tcc')\n",
        "    print(\"Doing: /content/\"+full_path_file)\n",
        "    if not os.path.exists(path_imgs):\n",
        "      os.makedirs(path_imgs)\n",
        "\n",
        "    make_imgs('/content/'+full_path_file, '/content/'+path_imgs)"
      ]
    },
    {
      "cell_type": "code",
      "execution_count": null,
      "metadata": {
        "id": "VNKdhe63KS__"
      },
      "outputs": [],
      "source": [
        "file_list = []\n",
        "for root, dirs, files in os.walk('/content/s3-data-preprocessed-tcc/Anomaly-Videos-Part-4/Vandalism/'):\n",
        "    for file in files:\n",
        "        if file[-4:] == \".jpg\":\n",
        "          file_path = os.path.join(root, file)\n",
        "          file_list.append(file_path)"
      ]
    },
    {
      "cell_type": "code",
      "execution_count": null,
      "metadata": {
        "colab": {
          "base_uri": "https://localhost:8080/"
        },
        "id": "Pq9D8_-7aL-t",
        "outputId": "f342c57b-f3eb-4917-8d34-675beb8c9b0f"
      },
      "outputs": [
        {
          "data": {
            "text/plain": [
              "3334"
            ]
          },
          "execution_count": 64,
          "metadata": {},
          "output_type": "execute_result"
        }
      ],
      "source": [
        "len(file_list)"
      ]
    },
    {
      "cell_type": "code",
      "execution_count": null,
      "metadata": {
        "id": "BEF0wuKa8zo_"
      },
      "outputs": [],
      "source": [
        "for file_path in file_list:\n",
        "    # Determine o caminho no S3 onde o arquivo será armazenado\n",
        "    s3_path = os.path.relpath(file_path, '/content/').replace('\\\\', '/')\n",
        "    s3_path = f'{bucket_name}/{s3_path}'\n",
        "    s3_path = s3_path.replace('s3-data-raw-tcc/','')\n",
        "    # upload the file to the new directory in the bucket\n",
        "    s3.upload_file(file_path, bucket_name, s3_path)\n",
        "\n",
        "    print(f'O arquivo {s3_path} foi enviado com sucesso para o bucket {bucket_name}')"
      ]
    },
    {
      "cell_type": "code",
      "execution_count": null,
      "metadata": {
        "colab": {
          "base_uri": "https://localhost:8080/"
        },
        "id": "h3mqSP5ouSTz",
        "outputId": "20de1e14-fb23-4a06-b19e-ae8947f0dca8"
      },
      "outputs": [],
      "source": [
        "text = '''\n",
        "[default]\n",
        "aws_access_key_id = SECRET_KEY\n",
        "aws_secret_access_key = SECRET_ACCESS_KEY\n",
        "region = us-east-1\n",
        "aws_session_token = SECRET_TOKEN\n",
        "'''\n",
        "path = \"/content/awscli.ini\"\n",
        "with open(path, 'w') as f:\n",
        "   f.write(text)\n",
        "!cat /content/awscli.ini"
      ]
    },
    {
      "cell_type": "code",
      "execution_count": null,
      "metadata": {
        "colab": {
          "base_uri": "https://localhost:8080/"
        },
        "id": "K4HN8O9twCO1",
        "outputId": "0c74a942-2684-421d-82a1-a5bdcbb87283"
      },
      "outputs": [
        {
          "name": "stdout",
          "output_type": "stream",
          "text": [
            "/content/awscli.ini\n"
          ]
        }
      ],
      "source": [
        "import os\n",
        "!export AWS_SHARED_CREDENTIALS_FILE=/content/awscli.ini\n",
        "path = \"/content/awscli.ini\"\n",
        "os.environ['AWS_SHARED_CREDENTIALS_FILE'] = path\n",
        "print(os.environ['AWS_SHARED_CREDENTIALS_FILE'])"
      ]
    },
    {
      "cell_type": "code",
      "execution_count": null,
      "metadata": {
        "colab": {
          "base_uri": "https://localhost:8080/"
        },
        "id": "KPFLfG05wJN-",
        "outputId": "d76db754-2a8b-433f-eb48-c78f38dd2f80"
      },
      "outputs": [],
      "source": [
        "!aws s3 cp /content/s3-data-preprocessed-tcc/Anomaly-Videos-Part-4/Vandalism/ s3://s3-data-raw-tcc/s3-data-preprocessed-tcc/Anomaly-Videos-Part-4/Vandalism/ --recursive"
      ]
    }
  ],
  "metadata": {
    "colab": {
      "provenance": []
    },
    "kernelspec": {
      "display_name": "Python 3",
      "name": "python3"
    },
    "language_info": {
      "name": "python"
    }
  },
  "nbformat": 4,
  "nbformat_minor": 0
}
